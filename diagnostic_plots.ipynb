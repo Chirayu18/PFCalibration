{
 "cells": [
  {
   "cell_type": "code",
   "execution_count": 1,
   "metadata": {},
   "outputs": [
    {
     "name": "stdout",
     "output_type": "stream",
     "text": [
      "Welcome to JupyROOT 6.28/00\n"
     ]
    }
   ],
   "source": [
    "import ROOT as r\n",
    "import numpy as np"
   ]
  },
  {
   "cell_type": "code",
   "execution_count": 4,
   "metadata": {},
   "outputs": [
    {
     "name": "stderr",
     "output_type": "stream",
     "text": [
      "Warning in <TFile::Append>: Replacing existing TH1: totE_hcal (Potential memory leak).\n"
     ]
    }
   ],
   "source": [
    "f = r.TFile(\"step3_rechitcut_200to500.root\",\"READ\")\n",
    "tree = f.Get(\"s\")\n",
    "\n",
    "bk_nHits,bk_res,cg_nHits,cg_res = [],[],[],[]\n",
    "\n",
    "hadHitE = r.std.vector(\"float\")()\n",
    "hadHitF = r.std.vector(\"float\")()\n",
    "HcalRechit_E = r.std.vector(\"float\")()\n",
    "tree.SetBranchAddress(\"hadHitE\", hadHitE)\n",
    "tree.SetBranchAddress(\"hadHitF\", hadHitF)\n",
    "tree.SetBranchAddress(\"HcalRechit_E\", HcalRechit_E)\n",
    "\n",
    "emHitE = r.std.vector(\"float\")()\n",
    "emHitF = r.std.vector(\"float\")()\n",
    "EcalRechit_E = r.std.vector(\"float\")()\n",
    "tree.SetBranchAddress(\"emHitE\", emHitE)\n",
    "tree.SetBranchAddress(\"emHitF\", emHitF)\n",
    "tree.SetBranchAddress(\"EcalRechit_E\", EcalRechit_E)\n",
    "nHits_hcal = r.TH2F(\"nHits_hcal\",\"Number of Rechits (200 GeV - 500 GeV);Using dR matching;Using PFElements\",100,0,100,100,0,100)\n",
    "totE_hcal = r.TH2F(\"totE_hcal\",\"Total Energy of Rechits in HCAL (200 GeV - 500 GeV);Using dR matching;Using PFElements\",100,0,1000,100,0,1000)\n",
    "\n",
    "nHits_ecal = r.TH2F(\"nHits_ecal\",\"Number of Rechits;Using dR matching (200 GeV - 500 GeV);Using PFElhadents\",100,0,40,100,0,40)\n",
    "totE_ecal = r.TH2F(\"totE_ecal\",\"Total Energy of Rechits in ECAL (200 GeV - 500 GeV);Using dR matching;Using PFElements\",100,0,1000,100,0,1000)\n",
    "\n",
    "totE = r.TH2F(\"totE_hcal\",\"Total Energy of Rechits in HCAL+ECAL (200 GeV - 500 GeV);Using dR matching;Using PFElements\",100,0,1000,100,0,1000)\n",
    "\n",
    "totE_corr_pf = r.TH2F(\"totE_corr_pf\",\"Total Energy of Rechits in HCAL+ECAL (200 GeV - 500 GeV);Corrected PF Candidate energy;Using PFElements\",100,0,1000,100,0,1000)\n",
    "totE_true_pf = r.TH2F(\"totE_true_pf\",\"Total Energy of Rechits in HCAL+ECAL (200 GeV - 500 GeV);Gen level energy;Using PFElements\",100,0,1000,100,0,1000)\n",
    "\n",
    "totE_raw_pf = r.TH2F(\"totE_raw_pf\",\"Total Energy of Rechits in HCAL+ECAL (200 GeV - 500 GeV);Raw energy;Using PFElements\",100,0,1000,100,0,1000)\n",
    "totE_raw_pf_ecal = r.TH2F(\"totE_raw_pf_ecal\",\"Total Energy of Rechits in ECAL (200 GeV - 500 GeV);Raw energy;Using PFElements\",100,0,1000,100,0,1000)\n",
    "totE_raw_pf_hcal = r.TH2F(\"totE_raw_pf_hcal\",\"Total Energy of Rechits in HCAL (200 GeV - 500 GeV);Raw energy;Using PFElements\",100,0,1000,100,0,1000)\n",
    "\n",
    "totE_raw_pf_1d = r.TH1F(\"totE_raw_pf_1d\",\"(Energy using PFElements)/(Raw energy) ECAL+HCAL (200 GeV - 500 GeV)\",100,0,10)\n",
    "totE_raw_pf_1d_ecal = r.TH1F(\"totE_raw_pf_1d_ecal\",\"(Energy using PFElements)/(Raw energy) ECAL (200 GeV - 500 GeV)\",100,0,10)\n",
    "totE_raw_pf_1d_hcal = r.TH1F(\"totE_raw_pf_1d_hcal\",\"(Energy using PFElements)/(Raw energy) HCAL (200 GeV - 500 GeV)\",100,0,10)\n",
    "\n",
    "resolution_dR = r.TH1F(\"resol_dR\",\"(Energy using dR - true)/true ECAL+HCAL (200 GeV - 500 GeV)\",100,-2,2)\n",
    "resolution_pf = r.TH1F(\"resol_pf\",\"(Energy using pf - true)/true ECAL+HCAL (200 GeV - 500 GeV)\",100,-2,2)\n",
    "pftot_1d = r.TH1F(\"pftot_1d\",\"Energy using pf ECAL+HCAL (200 GeV - 500 GeV)\",100,0,10)\n",
    "totE_true_dR = r.TH2F(\"totE_true_dR\",\"Total Energy of Rechits in HCAL+ECAL (200 GeV - 500 GeV);Gen level energy;Using dR matching\",100,0,1000,100,0,1000)\n",
    "\n",
    "pftot = np.array([])\n",
    "trueE = np.array([])\n",
    "pfc_ar = np.array([])\n",
    "eta_ar = np.array([])\n",
    "\n",
    "for entry in tree:\n",
    "    eta = getattr(tree,\"eta\")\n",
    "\n",
    "    p = getattr(tree,\"p\")\n",
    "    Ccorrecal = getattr(tree,\"Ccorrecal\")\n",
    "    Ccorrhcal = getattr(tree,\"Ccorrhcal\")\n",
    "    true = getattr(tree,\"true\")\n",
    "    ecalraw = getattr(tree,\"ecal\")\n",
    "    hcalraw = getattr(tree,\"hcal\")\n",
    "    charge = getattr(tree,\"charge\")\n",
    "    pfcid = getattr(tree,\"pfcID\")\n",
    "    Eecal = getattr(tree,\"Eecal\")\n",
    "    Ehcal = getattr(tree,\"Ehcal\")\n",
    "    pfc_ar = np.append(pfc_ar,pfcid.size())\n",
    "    #if np.all(np.array(hadHitF)<=1) and np.all(np.array(emHitF)<=1):\n",
    "    pfHits_hcal_E = np.array(hadHitE)*np.array(hadHitF)\n",
    "    pfHits_ecal_E = np.array(emHitE)*np.array(emHitF)\n",
    "    hcal = np.array([ np.sum(pfHits_hcal_E), np.sum(list(HcalRechit_E)) ])\n",
    "    ecal = np.array([np.sum(pfHits_ecal_E) , np.sum(list(EcalRechit_E)) ])\n",
    "    if hcalraw == 0:\n",
    "        continue\n",
    "    if ecalraw == 0:\n",
    "        continue\n",
    "    if hcal[0]/hcalraw<1.2 and ecal[0]/ecalraw<1.2 and true>0:\n",
    "        nHits_hcal.Fill(HcalRechit_E.size(),np.sum(list(hadHitF)))\n",
    "        #pfHits_ecal_E = pfHits_ecal_E[pfHits_ecal_E>0.1]\n",
    "        #pfHits_hcal_E = pfHits_hcal_E[pfHits_hcal_E>0.1]\n",
    "        #hcal = ( np.sum(np.array(hadHitE)), np.sum(list(HcalRechit_E)) )\n",
    "        totE_hcal.Fill(hcal[1],hcal[0])\n",
    "\n",
    "        nHits_ecal.Fill(EcalRechit_E.size(),np.sum(list(emHitF)))\n",
    "        hpluse = hcal+ecal\n",
    "        #if(hpluse[0]<10):\n",
    "        #    print(\"Eta: \",eta,\", True: \",true,\", Raw:\",ecalraw+hcalraw,\", PFCID: \",pfcid)\n",
    "        #    eta_ar = np.append(eta_ar,eta)\n",
    "        \"\"\"\n",
    "        if(hpluse[0]/hpluse[1]>1.5):\n",
    "            print(\"------------------------Badmevent----------------------\")\n",
    "            print(\"Energies in PF Rechits\")\n",
    "            print(\"HCAL hits:\",np.sort(pfHits_hcal_E))\n",
    "            print(\"ECAL hits:\",np.sort(pfHits_ecal_E))\n",
    "            print(\"Sum of PF Rechits\", np.sum(pfHits_ecal_E)+np.sum(pfHits_hcal_E))\n",
    "            print(\"Energies in DR Rechits\")\n",
    "            print(\"HCAL hits:\",np.sort(np.array(HcalRechit_E)))\n",
    "            print(\"ECAL hits:\",np.sort(np.array(EcalRechit_E)))\n",
    "            print(\"Sum of DR Rechits\", np.sum(HcalRechit_E)+np.sum(EcalRechit_E))\n",
    "            print(\"True Energy: \",true)\n",
    "            print()\n",
    "        \"\"\"\n",
    "        #ecal = ( np.sum(np.array(emHitE)), np.sum(list(EcalRechit_E)) )\n",
    "        totE_ecal.Fill(ecal[1],ecal[0])\n",
    "        totE.Fill(hcal[1]+ecal[1],hcal[0]+ecal[0])\n",
    "        totE_corr_pf.Fill(Ccorrecal+Ccorrhcal,hcal[0]+ecal[0])\n",
    "        totE_true_pf.Fill(true,hcal[0]+ecal[0])\n",
    "        pftot_1d.Fill(ecal[0]+hcal[0])\n",
    "        pftot= np.append(pftot,ecal[0]+hcal[0])\n",
    "        trueE = np.append(trueE,true)\n",
    "\n",
    "        totE_raw_pf.Fill(ecalraw+hcalraw,hcal[0]+ecal[0])\n",
    "        totE_raw_pf_ecal.Fill(ecalraw,ecal[0])\n",
    "        totE_raw_pf_hcal.Fill(hcalraw,hcal[0])\n",
    "        \n",
    "        totE_raw_pf_1d.Fill((ecal[0]+hcal[0])/(ecalraw+hcalraw+0.0001))\n",
    "        totE_raw_pf_1d_ecal.Fill((ecal[0])/(ecalraw+0.0001))\n",
    "        totE_raw_pf_1d_hcal.Fill((hcal[0])/(hcalraw+0.0001))\n",
    "\n",
    "        totE_true_dR.Fill(true,hcal[1]+ecal[1])\n",
    "        \n",
    "        resolution_dR.Fill((ecal[1]+hcal[1] - true)/(true+0.0001))\n",
    "        resolution_pf.Fill((ecal[0]+hcal[0] - true)/(true+0.0001))\n",
    "        #print(np.sum(np.array(hadHitE)*np.array(hadHitF)), np.sum(list(HcalRechit_E))"
   ]
  },
  {
   "cell_type": "code",
   "execution_count": 5,
   "metadata": {},
   "outputs": [
    {
     "name": "stderr",
     "output_type": "stream",
     "text": [
      "Info in <TCanvas::Print>: png file diagnosticPlots_encut/nHits_ecal.png has been created\n",
      "Info in <TCanvas::Print>: pdf file diagnosticPlots_encut/nHits_ecal.pdf has been created\n",
      "Info in <TCanvas::Print>: png file diagnosticPlots_encut/nHits_hcal.png has been created\n",
      "Info in <TCanvas::Print>: pdf file diagnosticPlots_encut/nHits_hcal.pdf has been created\n",
      "Info in <TCanvas::Print>: png file diagnosticPlots_encut/totE_ecal.png has been created\n",
      "Info in <TCanvas::Print>: pdf file diagnosticPlots_encut/totE_ecal.pdf has been created\n",
      "Info in <TCanvas::Print>: png file diagnosticPlots_encut/totE_hcal.png has been created\n",
      "Info in <TCanvas::Print>: pdf file diagnosticPlots_encut/totE_hcal.pdf has been created\n",
      "Info in <TCanvas::Print>: png file diagnosticPlots_encut/totE_corr_pf.png has been created\n",
      "Info in <TCanvas::Print>: pdf file diagnosticPlots_encut/totE_corr_pf.pdf has been created\n",
      "Info in <TCanvas::Print>: png file diagnosticPlots_encut/totE_true_pf.png has been created\n",
      "Info in <TCanvas::Print>: pdf file diagnosticPlots_encut/totE_true_pf.pdf has been created\n",
      "Info in <TCanvas::Print>: png file diagnosticPlots_encut/totE_raw_pf.png has been created\n",
      "Info in <TCanvas::Print>: pdf file diagnosticPlots_encut/totE_raw_pf.pdf has been created\n",
      "Info in <TCanvas::Print>: png file diagnosticPlots_encut/totE_true_dR.png has been created\n",
      "Info in <TCanvas::Print>: pdf file diagnosticPlots_encut/totE_true_dR.pdf has been created\n",
      "Info in <TCanvas::Print>: png file diagnosticPlots_encut/totE_raw_pf_ecal.png has been created\n",
      "Info in <TCanvas::Print>: pdf file diagnosticPlots_encut/totE_raw_pf_ecal.pdf has been created\n",
      "Info in <TCanvas::Print>: png file diagnosticPlots_encut/totE_raw_pf_hcal.png has been created\n",
      "Info in <TCanvas::Print>: pdf file diagnosticPlots_encut/totE_raw_pf_hcal.pdf has been created\n",
      "Info in <TCanvas::Print>: png file diagnosticPlots_encut/totE.png has been created\n",
      "Info in <TCanvas::Print>: pdf file diagnosticPlots_encut/totE.pdf has been created\n"
     ]
    }
   ],
   "source": [
    "plotsToDraw=[nHits_ecal,nHits_hcal,totE_ecal,totE_hcal,totE_corr_pf,totE_true_pf,totE_raw_pf,totE_true_dR,totE_raw_pf_ecal,totE_raw_pf_hcal]\n",
    "folder=\"diagnosticPlots_encut/\"\n",
    "def drawPlot(plot,plotname=\"\",log=False):\n",
    "    if(plotname==\"\"):\n",
    "        plotname=plot.GetName()\n",
    "    canvas = r.TCanvas(\"canvas\", \"2D Histogram Canvas\", 800, 800)\n",
    "    plot.Draw(\"colz\")\n",
    "    r.gStyle.SetOptStat(111111)\n",
    "    canvas.SetLeftMargin(0.12)\n",
    "    if(log):\n",
    "        canvas.SetLogy()\n",
    "    file = r.TFile(\"output.root\", \"RECREATE\")\n",
    "    file.cd()\n",
    "    canvas.SetRightMargin(0.1)\n",
    "    canvas.Update()\n",
    "    canvas.Draw()\n",
    "    canvas.Write()\n",
    "    file.Close()\n",
    "    canvas.SaveAs(folder+plotname+\".png\")\n",
    "    canvas.SaveAs(folder+plotname+\".pdf\")\n",
    "\n",
    "for i in plotsToDraw:\n",
    "    drawPlot(i,i.GetName())\n",
    "drawPlot(totE,\"totE\")"
   ]
  },
  {
   "cell_type": "code",
   "execution_count": 6,
   "metadata": {},
   "outputs": [
    {
     "name": "stderr",
     "output_type": "stream",
     "text": [
      "Info in <TCanvas::Print>: png file diagnosticPlots_encut/hadRecHitF.png has been created\n",
      "Info in <TCanvas::Print>: pdf file diagnosticPlots_encut/hadRecHitF.pdf has been created\n",
      "Info in <TCanvas::Print>: png file diagnosticPlots_encut/emRecHitF.png has been created\n",
      "Info in <TCanvas::Print>: pdf file diagnosticPlots_encut/emRecHitF.pdf has been created\n",
      "Info in <TCanvas::Print>: png file diagnosticPlots_encut/totE_raw_pf_1d.png has been created\n",
      "Info in <TCanvas::Print>: pdf file diagnosticPlots_encut/totE_raw_pf_1d.pdf has been created\n",
      "Info in <TCanvas::Print>: png file diagnosticPlots_encut/totE_raw_pf_1d_ecal.png has been created\n",
      "Info in <TCanvas::Print>: pdf file diagnosticPlots_encut/totE_raw_pf_1d_ecal.pdf has been created\n",
      "Info in <TCanvas::Print>: png file diagnosticPlots_encut/totE_raw_pf_1d_hcal.png has been created\n",
      "Info in <TCanvas::Print>: pdf file diagnosticPlots_encut/totE_raw_pf_1d_hcal.pdf has been created\n",
      "Info in <TCanvas::Print>: png file diagnosticPlots_encut/resol_pf.png has been created\n",
      "Info in <TCanvas::Print>: pdf file diagnosticPlots_encut/resol_pf.pdf has been created\n",
      "Info in <TCanvas::Print>: png file diagnosticPlots_encut/resol_dR.png has been created\n",
      "Info in <TCanvas::Print>: pdf file diagnosticPlots_encut/resol_dR.pdf has been created\n",
      "Info in <TCanvas::Print>: png file diagnosticPlots_encut/resolution_pf_log.png has been created\n",
      "Info in <TCanvas::Print>: pdf file diagnosticPlots_encut/resolution_pf_log.pdf has been created\n",
      "Info in <TCanvas::Print>: png file diagnosticPlots_encut/resolution_dR_log.png has been created\n",
      "Info in <TCanvas::Print>: pdf file diagnosticPlots_encut/resolution_dR_log.pdf has been created\n"
     ]
    }
   ],
   "source": [
    "hadRecHitF = r.TH1F(\"hadRecHitF\",\"RecHit Fraction in HCAL\",100,0,1.0001)\n",
    "emRecHitF = r.TH1F(\"emRecHitF\",\"RecHit Fraction in ECAL\",100,0,1.0001)\n",
    "for entry in tree:\n",
    "    for i in hadHitF:\n",
    "        hadRecHitF.Fill(i)\n",
    "    for i in emHitF:\n",
    "        emRecHitF.Fill(i)\n",
    "drawPlot(hadRecHitF,\"hadRecHitF\",log=True)\n",
    "drawPlot(emRecHitF,\"emRecHitF\",log=True)\n",
    "drawPlot(totE_raw_pf_1d,log=True)\n",
    "drawPlot(totE_raw_pf_1d_ecal,log=True)\n",
    "drawPlot(totE_raw_pf_1d_hcal,log=True)\n",
    "drawPlot(resolution_pf,log=False)\n",
    "drawPlot(resolution_dR,log=False)\n",
    "drawPlot(resolution_pf,\"resolution_pf_log\",log=True)\n",
    "drawPlot(resolution_dR,\"resolution_dR_log\",log=True)"
   ]
  },
  {
   "cell_type": "code",
   "execution_count": 7,
   "metadata": {},
   "outputs": [
    {
     "name": "stderr",
     "output_type": "stream",
     "text": [
      "Info in <TCanvas::Print>: png file diagnosticPlots_encut/totE_raw_pf.png has been created\n",
      "Info in <TCanvas::Print>: pdf file diagnosticPlots_encut/totE_raw_pf.pdf has been created\n",
      "Info in <TCanvas::Print>: png file diagnosticPlots_encut/pftot_1d.png has been created\n",
      "Info in <TCanvas::Print>: pdf file diagnosticPlots_encut/pftot_1d.pdf has been created\n"
     ]
    }
   ],
   "source": [
    "drawPlot(totE_raw_pf)\n",
    "drawPlot(pftot_1d)"
   ]
  },
  {
   "cell_type": "code",
   "execution_count": null,
   "metadata": {},
   "outputs": [
    {
     "data": {
      "image/png": "[encoded data removed]",
      "text/plain": [
       "<Figure size 640x480 with 1 Axes>"
      ]
     },
     "metadata": {},
     "output_type": "display_data"
    }
   ],
   "source": [
    "import matplotlib.pyplot as plt\n",
    "plt.hist(eta_ar,bins=50)\n",
    "plt.show()"
   ]
  },
  {
   "cell_type": "code",
   "execution_count": null,
   "metadata": {},
   "outputs": [],
   "source": []
  },
  {
   "cell_type": "code",
   "execution_count": null,
   "metadata": {},
   "outputs": [],
   "source": []
  }
 ],
 "metadata": {
  "kernelspec": {
   "display_name": "Python 3",
   "language": "python",
   "name": "python3"
  },
  "language_info": {
   "codemirror_mode": {
    "name": "ipython",
    "version": 3
   },
   "file_extension": ".py",
   "mimetype": "text/x-python",
   "name": "python",
   "nbconvert_exporter": "python",
   "pygments_lexer": "ipython3",
   "version": "3.11.4"
  },
  "orig_nbformat": 4
 },
 "nbformat": 4,
 "nbformat_minor": 2
}
